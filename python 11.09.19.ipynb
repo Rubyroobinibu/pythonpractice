{
 "cells": [
  {
   "cell_type": "code",
   "execution_count": 2,
   "metadata": {},
   "outputs": [
    {
     "name": "stdout",
     "output_type": "stream",
     "text": [
      "4\n",
      "1\n",
      "2\n",
      "2\n",
      "3\n",
      "{1, 2, 3, 4}\n"
     ]
    }
   ],
   "source": [
    "def dup(lst):\n",
    "    print(set(lst))\n",
    "lst=[]\n",
    "for i in range(1,6):\n",
    "    l=int(input())\n",
    "    lst.append(l)\n",
    "dup(lst)"
   ]
  },
  {
   "cell_type": "code",
   "execution_count": 29,
   "metadata": {},
   "outputs": [
    {
     "name": "stdout",
     "output_type": "stream",
     "text": [
      "1\n",
      "0\n",
      "1\n"
     ]
    }
   ],
   "source": [
    "def f(n):\n",
    "    a=0\n",
    "    b=1\n",
    "    \n",
    "    print(a)\n",
    "    print(b)\n",
    "    for x in range(1,n-1):\n",
    "        c=a+b\n",
    "        print(c)\n",
    "        a=b\n",
    "        b=c\n",
    "n=int(input())\n",
    "f(n)"
   ]
  },
  {
   "cell_type": "code",
   "execution_count": 14,
   "metadata": {},
   "outputs": [
    {
     "name": "stdout",
     "output_type": "stream",
     "text": [
      "<re.Match object; span=(0, 5), match='hello'>\n"
     ]
    }
   ],
   "source": [
    "import re\n",
    "s=\"hello world\"\n",
    "match=re.match(\"hello\",s)\n",
    "print(match)  #returns match only if match is present in the beginning of the string\n"
   ]
  },
  {
   "cell_type": "code",
   "execution_count": 15,
   "metadata": {},
   "outputs": [
    {
     "name": "stdout",
     "output_type": "stream",
     "text": [
      "None\n"
     ]
    }
   ],
   "source": [
    "import re\n",
    "s=\"hello world\"\n",
    "match=re.match(\"world\",s)\n",
    "print(match)  #returns match only if match is present in the beginning of the string\n"
   ]
  },
  {
   "cell_type": "code",
   "execution_count": 17,
   "metadata": {},
   "outputs": [
    {
     "name": "stdout",
     "output_type": "stream",
     "text": [
      "<re.Match object; span=(6, 11), match='world'>\n"
     ]
    }
   ],
   "source": [
    "import re\n",
    "s=\"hello world\"\n",
    "match=re.search(\"world\",s)\n",
    "print(match)  #returns match only if match is present anywhere in the string"
   ]
  },
  {
   "cell_type": "code",
   "execution_count": 22,
   "metadata": {},
   "outputs": [
    {
     "name": "stdout",
     "output_type": "stream",
     "text": [
      "<re.Match object; span=(6, 9), match='wor'>\n",
      "(6, 9)\n",
      "hello world\n",
      "wor\n"
     ]
    }
   ],
   "source": [
    "import re\n",
    "s=\"hello world\"\n",
    "match=re.search(\"wor\",s)\n",
    "print(match) #returns match only if match is present anywhere in the string\n",
    "print(match.span()) #returns span value of searched string\n",
    "print(match.string) #returns the entire string\n",
    "print(match.group(0)) #returns the searched string"
   ]
  },
  {
   "cell_type": "code",
   "execution_count": 4,
   "metadata": {},
   "outputs": [
    {
     "name": "stdout",
     "output_type": "stream",
     "text": [
      "rrrt\n",
      "rrrt is not a palindrome\n"
     ]
    }
   ],
   "source": [
    "def palindrome(s):\n",
    "    rev=s[::-1]\n",
    "    if s==rev:\n",
    "        return 1\n",
    "    else:\n",
    "        return 0\n",
    "\n",
    "s=input()\n",
    "result=palindrome(s)\n",
    "if result==1:\n",
    "    print(\"{} is a palindrome\".format(s))\n",
    "else:\n",
    "    print(\"{} is not a palindrome\".format(s))"
   ]
  },
  {
   "cell_type": "code",
   "execution_count": 25,
   "metadata": {},
   "outputs": [
    {
     "name": "stdout",
     "output_type": "stream",
     "text": [
      "[' ', ' ']\n"
     ]
    }
   ],
   "source": [
    "import re\n",
    "s=\"hello wor ld\"\n",
    "match=re.findall(\" \",s)\n",
    "print(match)  #returns match only if match is present anywhere in the string"
   ]
  },
  {
   "cell_type": "code",
   "execution_count": 28,
   "metadata": {},
   "outputs": [
    {
     "name": "stdout",
     "output_type": "stream",
     "text": [
      "['hell', ' w', 'rld']\n"
     ]
    }
   ],
   "source": [
    "import re\n",
    "s=\"hello world\"\n",
    "match=re.split(\"o\",s)\n",
    "print(match)  #returns match only if match is present anywhere in the string"
   ]
  },
  {
   "cell_type": "code",
   "execution_count": 30,
   "metadata": {},
   "outputs": [
    {
     "name": "stdout",
     "output_type": "stream",
     "text": [
      "hell# w#rld\n"
     ]
    }
   ],
   "source": [
    "import re\n",
    "s=\"hello world\"\n",
    "match=re.sub(\"o\",\"#\",s)\n",
    "print(match)  #returns match only if match is present anywhere in the string"
   ]
  },
  {
   "cell_type": "code",
   "execution_count": 60,
   "metadata": {},
   "outputs": [
    {
     "name": "stdout",
     "output_type": "stream",
     "text": [
      "<re.Match object; span=(1, 2), match='h'>\n"
     ]
    }
   ],
   "source": [
    "import re\n",
    "s=\"\\nhello world\"\n",
    "match=re.search(r'\\w',s)\n",
    "print(match)  #returns starting word character in the string"
   ]
  },
  {
   "cell_type": "code",
   "execution_count": 48,
   "metadata": {},
   "outputs": [
    {
     "name": "stdout",
     "output_type": "stream",
     "text": [
      "<re.Match object; span=(3, 4), match=' '>\n"
     ]
    }
   ],
   "source": [
    "import re\n",
    "s=\"hel lo world\"\n",
    "match=re.search(r'\\W',s)\n",
    "print(match)  #returns white space character in the string"
   ]
  },
  {
   "cell_type": "code",
   "execution_count": 42,
   "metadata": {},
   "outputs": [
    {
     "name": "stdout",
     "output_type": "stream",
     "text": [
      "<re.Match object; span=(1, 2), match='1'>\n"
     ]
    }
   ],
   "source": [
    "import re\n",
    "s=\"h1llo world\"\n",
    "match=re.search(r'\\d',s)\n",
    "print(match)  #returns digits in the string"
   ]
  },
  {
   "cell_type": "code",
   "execution_count": 41,
   "metadata": {},
   "outputs": [
    {
     "name": "stdout",
     "output_type": "stream",
     "text": [
      "<re.Match object; span=(1, 2), match='e'>\n"
     ]
    }
   ],
   "source": [
    "import re\n",
    "s=\"1ello world\"\n",
    "match=re.search(r'\\D',s)\n",
    "print(match)  #returns other than digits character in the string\n"
   ]
  },
  {
   "cell_type": "code",
   "execution_count": 44,
   "metadata": {},
   "outputs": [
    {
     "name": "stdout",
     "output_type": "stream",
     "text": [
      "hello\tworld\n",
      "<re.Match object; span=(5, 6), match='\\t'>\n"
     ]
    }
   ],
   "source": [
    "import re\n",
    "s=\"hello\\tworld\"\n",
    "print(s)\n",
    "match=re.search(r'\\s',s)\n",
    "print(match)  #returns white space,tab space character in the string"
   ]
  },
  {
   "cell_type": "code",
   "execution_count": 47,
   "metadata": {},
   "outputs": [
    {
     "name": "stdout",
     "output_type": "stream",
     "text": [
      "hello\n",
      "world\n",
      "<re.Match object; span=(5, 6), match='\\n'>\n"
     ]
    }
   ],
   "source": [
    "import re\n",
    "s=\"hello\\nworld\"\n",
    "print(s)\n",
    "match=re.search(r'\\s',s)\n",
    "print(match)  #returns white space character in the string"
   ]
  },
  {
   "cell_type": "code",
   "execution_count": 54,
   "metadata": {},
   "outputs": [
    {
     "name": "stdout",
     "output_type": "stream",
     "text": [
      " hello\n",
      "world\n",
      "<re.Match object; span=(1, 2), match='h'>\n"
     ]
    }
   ],
   "source": [
    "import re\n",
    "s=\" hello\\nworld\"\n",
    "print(s)\n",
    "match=re.search(r'\\S',s)\n",
    "print(match)  #returns other than space, tab, newline character in the string"
   ]
  },
  {
   "cell_type": "code",
   "execution_count": 59,
   "metadata": {},
   "outputs": [
    {
     "name": "stdout",
     "output_type": "stream",
     "text": [
      "\n",
      "1elloworld\n",
      "<re.Match object; span=(1, 2), match='1'>\n"
     ]
    }
   ],
   "source": [
    "import re\n",
    "s=\"\\n1elloworld\"\n",
    "print(s)\n",
    "match=re.search(r'.',s)\n",
    "print(match)  #returns any char other than new line in the string"
   ]
  },
  {
   "cell_type": "code",
   "execution_count": 69,
   "metadata": {},
   "outputs": [
    {
     "name": "stdout",
     "output_type": "stream",
     "text": [
      "<re.Match object; span=(0, 12), match='192.174.32.1'>\n",
      "the ip is 192.174.32.1\n",
      "the ip is 192\n",
      "the ip is 174\n",
      "the ip is 32\n",
      "the ip is 1\n"
     ]
    }
   ],
   "source": [
    "ip='192.174.32.1'\n",
    "match=re.search(r'(\\d\\d\\d)\\.(\\d\\d\\d).(\\d\\d).(\\d)',ip)   # \\. is used to skip ''.''\n",
    "print(match)\n",
    "print(\"the ip is {}\" .format(match.group(0))) #returns entire string\n",
    "print(\"the ip is {}\" .format(match.group(1))) #returns first group of string\n",
    "print(\"the ip is {}\" .format(match.group(2))) #sec group\n",
    "print(\"the ip is {}\" .format(match.group(3))) #third\n",
    "print(\"the ip is {}\" .format(match.group(4))) #4th"
   ]
  },
  {
   "cell_type": "code",
   "execution_count": 71,
   "metadata": {},
   "outputs": [
    {
     "name": "stdout",
     "output_type": "stream",
     "text": [
      "None\n"
     ]
    }
   ],
   "source": [
    "ip='192.174.342.11'\n",
    "match=re.search(r'(\\d\\d\\d)\\.(\\d\\d\\d).(\\d\\d).(\\d)',ip)   # pattern mismatch\n",
    "print(match)"
   ]
  },
  {
   "cell_type": "code",
   "execution_count": 75,
   "metadata": {},
   "outputs": [
    {
     "name": "stdout",
     "output_type": "stream",
     "text": [
      "<re.Match object; span=(0, 10), match='156.45.3.2'>\n",
      "156.45.3.2\n"
     ]
    }
   ],
   "source": [
    "ip='192.174.32.1'\n",
    "ip2='156.45.3.2'\n",
    "match=re.search(r'(\\d+)\\.(\\d+).(\\d+).(\\d+)',ip2)   # \\d+ is used for more than one number in each octet\n",
    "print(match)\n",
    "print(match.group(0))"
   ]
  },
  {
   "cell_type": "code",
   "execution_count": 121,
   "metadata": {},
   "outputs": [
    {
     "name": "stdout",
     "output_type": "stream",
     "text": [
      "<re.Match object; span=(0, 14), match='192.174.32.123'>\n"
     ]
    }
   ],
   "source": [
    "ip='192.174.32.123'\n",
    "match=re.search(r'[0-9]{1,3}\\.[0-9]{1,3}\\.[0-9]{1,3}\\.[0-9]{1,3}',ip)   # \\d+ is used for more than one number in each octet\n",
    "print(match)\n"
   ]
  },
  {
   "cell_type": "code",
   "execution_count": 144,
   "metadata": {},
   "outputs": [
    {
     "name": "stdout",
     "output_type": "stream",
     "text": [
      "<re.Match object; span=(0, 28), match='fe80::80c9:5d7a:b500:2312%24'>\n"
     ]
    }
   ],
   "source": [
    "ip='fe80::80c9:5d7a:b500:2312%24'\n",
    "match=re.search(r'[a-fA-F0-9]{0,4}::[a-fA-F0-9]{0,4}:[a-fA-F0-9]{0,4}:[a-fA-F0-9]{0,4}:[a-fA-F0-9]{0,4}%\\d\\d',ip)   # \\d+ is used for more than one number in each octet\n",
    "print(match)"
   ]
  },
  {
   "cell_type": "code",
   "execution_count": 186,
   "metadata": {},
   "outputs": [
    {
     "name": "stdout",
     "output_type": "stream",
     "text": [
      "<re.Match object; span=(17, 29), match='@airindia.in'>\n"
     ]
    }
   ],
   "source": [
    "str1='email ID:call.del@airindia.in'\n",
    "domain = re.search(\"@[\\w.]+\", str1)\n",
    "print(domain)\n",
    "\n",
    "\n",
    "\n"
   ]
  },
  {
   "cell_type": "code",
   "execution_count": 188,
   "metadata": {},
   "outputs": [
    {
     "name": "stdout",
     "output_type": "stream",
     "text": [
      "<re.Match object; span=(0, 31), match='email Id : call.del@airindia.in'>\n",
      "airindia.in\n"
     ]
    }
   ],
   "source": [
    "str1='email Id : call.del@airindia.in'\n",
    "match=re.search(r'[a-zA-Z ]+:([a-z ]+\\.[a-z]+@([a-z]+\\.[a-z]+))',str1)\n",
    "print(match)\n",
    "# print(match.group(0))\n",
    "# print(match.group(1))\n",
    "print(match.group(2))"
   ]
  },
  {
   "cell_type": "code",
   "execution_count": 190,
   "metadata": {},
   "outputs": [
    {
     "name": "stdout",
     "output_type": "stream",
     "text": [
      "<re.Match object; span=(15, 30), match=' : 011-24667473'>\n",
      " : 011-24667473\n",
      "011\n",
      "24667473\n"
     ]
    }
   ],
   "source": [
    "str1='Landline Number : 011-24667473'\n",
    "match=re.search(r'[a-zA-Z ]: ([0-9]{1,3})-([0-9]{8})',str1)\n",
    "print(match)\n",
    "print(match.group(0))\n",
    "print(match.group(1))\n",
    "print(match.group(2))\n"
   ]
  },
  {
   "cell_type": "code",
   "execution_count": 183,
   "metadata": {},
   "outputs": [
    {
     "name": "stdout",
     "output_type": "stream",
     "text": [
      "<re.Match object; span=(0, 46), match='(Monday to Saturday,0930 hrs. - 1730 hrs. IST)'>\n",
      "(Monday to Saturday,0930 hrs. - 1730 hrs. IST)\n",
      "0930 hrs. - 1730 hrs. \n"
     ]
    }
   ],
   "source": [
    "str1='(Monday to Saturday,0930 hrs. - 1730 hrs. IST)'\n",
    "match=re.search(r'[a-zA-Z \\(]+,([a-z0-9. -]+)[A-Z\\)]+',str1)\n",
    "print(match)\n",
    "print(match.group(0))\n",
    "print(match.group(1))\n"
   ]
  },
  {
   "cell_type": "code",
   "execution_count": 184,
   "metadata": {},
   "outputs": [
    {
     "name": "stdout",
     "output_type": "stream",
     "text": [
      "<re.Match object; span=(15, 30), match=' : 011-24667473'>\n",
      "<re.Match object; span=(15, 30), match=' : 011.24667473'>\n",
      "<re.Match object; span=(15, 30), match=' : 011*24667473'>\n"
     ]
    }
   ],
   "source": [
    "str1='Landline Number : 011-24667473'\n",
    "str2='Landline Number : 011.24667473'\n",
    "str3='Landline Number : 011*24667473'\n",
    "match=re.search(r'[a-zA-Z ]: [0-9]+.[0-9]+',str1)\n",
    "match1=re.search(r'[a-zA-Z ]: [0-9]+.[0-9]+',str2)\n",
    "match2=re.search(r'[a-zA-Z ]: [0-9]+.[0-9]+',str3)\n",
    "print(match)\n",
    "print(match1)\n",
    "print(match2)"
   ]
  },
  {
   "cell_type": "code",
   "execution_count": 196,
   "metadata": {},
   "outputs": [
    {
     "name": "stdout",
     "output_type": "stream",
     "text": [
      "10 && 44 || 44\n"
     ]
    },
    {
     "ename": "ValueError",
     "evalue": "invalid literal for int() with base 10: '10 && 44 || 44'",
     "output_type": "error",
     "traceback": [
      "\u001b[1;31m---------------------------------------------------------------------------\u001b[0m",
      "\u001b[1;31mValueError\u001b[0m                                Traceback (most recent call last)",
      "\u001b[1;32m<ipython-input-196-e7e092ba24d2>\u001b[0m in \u001b[0;36m<module>\u001b[1;34m\u001b[0m\n\u001b[0;32m      1\u001b[0m \u001b[1;32mimport\u001b[0m \u001b[0mre\u001b[0m\u001b[1;33m\u001b[0m\u001b[1;33m\u001b[0m\u001b[0m\n\u001b[1;32m----> 2\u001b[1;33m \u001b[1;32mfor\u001b[0m \u001b[0m_\u001b[0m \u001b[1;32min\u001b[0m \u001b[0mrange\u001b[0m\u001b[1;33m(\u001b[0m\u001b[0mint\u001b[0m\u001b[1;33m(\u001b[0m\u001b[0minput\u001b[0m\u001b[1;33m(\u001b[0m\u001b[1;33m)\u001b[0m\u001b[1;33m)\u001b[0m\u001b[1;33m)\u001b[0m\u001b[1;33m:\u001b[0m \u001b[0mline\u001b[0m \u001b[1;33m=\u001b[0m \u001b[0minput\u001b[0m\u001b[1;33m(\u001b[0m\u001b[1;33m)\u001b[0m\u001b[1;33m\u001b[0m\u001b[1;33m\u001b[0m\u001b[0m\n\u001b[0m\u001b[0;32m      3\u001b[0m \u001b[1;33m\u001b[0m\u001b[0m\n\u001b[0;32m      4\u001b[0m \u001b[1;32mwhile\u001b[0m \u001b[1;34m' && '\u001b[0m \u001b[1;32min\u001b[0m \u001b[0mline\u001b[0m \u001b[1;32mor\u001b[0m \u001b[1;34m' || '\u001b[0m \u001b[1;32min\u001b[0m \u001b[0mline\u001b[0m\u001b[1;33m:\u001b[0m\u001b[1;33m\u001b[0m\u001b[1;33m\u001b[0m\u001b[0m\n\u001b[0;32m      5\u001b[0m     \u001b[0mline\u001b[0m \u001b[1;33m=\u001b[0m \u001b[0mline\u001b[0m\u001b[1;33m.\u001b[0m\u001b[0mreplace\u001b[0m\u001b[1;33m(\u001b[0m\u001b[1;34m\" && \"\u001b[0m\u001b[1;33m,\u001b[0m \u001b[1;34m\" and \"\u001b[0m\u001b[1;33m)\u001b[0m\u001b[1;33m.\u001b[0m\u001b[0mreplace\u001b[0m\u001b[1;33m(\u001b[0m\u001b[1;34m\" || \"\u001b[0m\u001b[1;33m,\u001b[0m \u001b[1;34m\" or \"\u001b[0m\u001b[1;33m)\u001b[0m\u001b[1;33m\u001b[0m\u001b[1;33m\u001b[0m\u001b[0m\n",
      "\u001b[1;31mValueError\u001b[0m: invalid literal for int() with base 10: '10 && 44 || 44'"
     ]
    }
   ],
   "source": [
    "import re \n",
    "for _ in range(int(input())): line = input()\n",
    "\n",
    "while ' && ' in line or ' || ' in line:\n",
    "    line = line.replace(\" && \", \" and \").replace(\" || \", \" or \")\n",
    "\n",
    "print(line)"
   ]
  }
 ],
 "metadata": {
  "kernelspec": {
   "display_name": "Python 3",
   "language": "python",
   "name": "python3"
  },
  "language_info": {
   "codemirror_mode": {
    "name": "ipython",
    "version": 3
   },
   "file_extension": ".py",
   "mimetype": "text/x-python",
   "name": "python",
   "nbconvert_exporter": "python",
   "pygments_lexer": "ipython3",
   "version": "3.7.3"
  }
 },
 "nbformat": 4,
 "nbformat_minor": 2
}
