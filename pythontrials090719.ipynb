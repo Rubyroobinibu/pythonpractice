{
 "cells": [
  {
   "cell_type": "code",
   "execution_count": 18,
   "metadata": {},
   "outputs": [
    {
     "name": "stdout",
     "output_type": "stream",
     "text": [
      "jjj\n",
      "jjj\n",
      "22\n",
      "name jjj\n",
      "age 22\n",
      "2\n",
      "{'age': 22}\n",
      "{}\n"
     ]
    }
   ],
   "source": [
    "emp={\"name\":\"jjj\",\"age\":22}\n",
    "print(emp.get('name'))\n",
    "emp['age']\n",
    "for key in emp.keys():\n",
    "    print(emp[key])\n",
    "for key,value in emp.items():\n",
    "    print(key,value)\n",
    "print(len(emp))\n",
    "del emp['name']\n",
    "print (emp)\n",
    "emp.popitem()\n",
    "print(emp)"
   ]
  },
  {
   "cell_type": "code",
   "execution_count": 19,
   "metadata": {},
   "outputs": [
    {
     "name": "stdout",
     "output_type": "stream",
     "text": [
      "['10', '231', '1', '12']\n"
     ]
    }
   ],
   "source": [
    "def ipsplitter(s):\n",
    "    return s.split(\".\")\n",
    "print(ipsplitter(\"10.231.1.12\"))"
   ]
  },
  {
   "cell_type": "code",
   "execution_count": 20,
   "metadata": {},
   "outputs": [
    {
     "name": "stdout",
     "output_type": "stream",
     "text": [
      "['apple', 'orange', 'grapes', 'banana']\n"
     ]
    }
   ],
   "source": [
    "def fruitsplitter(s):\n",
    "    return s.split(\"#\")\n",
    "print(fruitsplitter(\"apple#orange#grapes#banana\"))"
   ]
  },
  {
   "cell_type": "code",
   "execution_count": 21,
   "metadata": {},
   "outputs": [
    {
     "name": "stdout",
     "output_type": "stream",
     "text": [
      "91-9876598764\n"
     ]
    }
   ],
   "source": [
    "def fn(no):\n",
    "    return no[:2]+\"-\"+no[2:]\n",
    "print(fn(\"919876598764\"))"
   ]
  },
  {
   "cell_type": "code",
   "execution_count": 22,
   "metadata": {},
   "outputs": [
    {
     "name": "stdout",
     "output_type": "stream",
     "text": [
      "9876598764\n"
     ]
    }
   ],
   "source": [
    "def fn(no):\n",
    "    return no[3:]\n",
    "print(fn(\"91-9876598764\"))"
   ]
  },
  {
   "cell_type": "code",
   "execution_count": 23,
   "metadata": {},
   "outputs": [
    {
     "name": "stdout",
     "output_type": "stream",
     "text": [
      "919876598764\n"
     ]
    }
   ],
   "source": [
    "def fn(no):\n",
    "    return no[:2]+no[3:]\n",
    "print(fn(\"91-9876598764\"))"
   ]
  },
  {
   "cell_type": "code",
   "execution_count": 24,
   "metadata": {},
   "outputs": [
    {
     "name": "stdout",
     "output_type": "stream",
     "text": [
      "HelloWorld\n"
     ]
    }
   ],
   "source": [
    "def fnspace(s):\n",
    "    return s[:5]+s[6:]\n",
    "print(fnspace(\"Hello World\"))"
   ]
  },
  {
   "cell_type": "code",
   "execution_count": 25,
   "metadata": {},
   "outputs": [
    {
     "data": {
      "text/plain": [
       "'HelloWorld'"
      ]
     },
     "execution_count": 25,
     "metadata": {},
     "output_type": "execute_result"
    }
   ],
   "source": [
    "s=\"Hello World\"\n",
    "s.replace(\" \",\"\")"
   ]
  },
  {
   "cell_type": "code",
   "execution_count": 26,
   "metadata": {},
   "outputs": [
    {
     "name": "stdout",
     "output_type": "stream",
     "text": [
      "18001234567\n"
     ]
    }
   ],
   "source": [
    "def fn(str):\n",
    "     return str.replace(\" \",\"\")\n",
    "print(fn(\"1800 123 4567\"))"
   ]
  },
  {
   "cell_type": "code",
   "execution_count": 27,
   "metadata": {},
   "outputs": [
    {
     "name": "stdout",
     "output_type": "stream",
     "text": [
      "['10', '232', '23', '34']\n"
     ]
    }
   ],
   "source": [
    "def fn(str):\n",
    "     return str.split(\".\")\n",
    "print(fn(\"10.232.23.34\"))"
   ]
  },
  {
   "cell_type": "code",
   "execution_count": 28,
   "metadata": {},
   "outputs": [
    {
     "name": "stdout",
     "output_type": "stream",
     "text": [
      "['192', '165', '34', '1']\n",
      "valid\n"
     ]
    }
   ],
   "source": [
    "str=\"192.165.34.1\"\n",
    "j=0\n",
    "i=str.split(\".\")\n",
    "print(i)\n",
    "for x in i:\n",
    "\n",
    "    if int(x) < 256:\n",
    "        j+=1\n",
    "if j==4:\n",
    "    print(\"valid\")\n",
    "else:\n",
    "     print(\"invalid\")"
   ]
  },
  {
   "cell_type": "code",
   "execution_count": 29,
   "metadata": {},
   "outputs": [
    {
     "data": {
      "text/plain": [
       "5"
      ]
     },
     "execution_count": 29,
     "metadata": {},
     "output_type": "execute_result"
    }
   ],
   "source": [
    "lst=['aaa','dfd','a','lll']\n",
    "len(lst)\n",
    "lst.append('gg')\n",
    "len(lst)"
   ]
  },
  {
   "cell_type": "code",
   "execution_count": 30,
   "metadata": {},
   "outputs": [
    {
     "name": "stdout",
     "output_type": "stream",
     "text": [
      "['aaa', 'dfd', 'a', 'lll', 'a']\n",
      "a\n"
     ]
    },
    {
     "data": {
      "text/plain": [
       "3"
      ]
     },
     "execution_count": 30,
     "metadata": {},
     "output_type": "execute_result"
    }
   ],
   "source": [
    "lst=['aaa','dfd','a','lll','a']\n",
    "len(lst)\n",
    "lst1=lst.copy()\n",
    "print(lst1)\n",
    "# lst.clear()\n",
    "# lst=[]\n",
    "print(lst[2])\n",
    "lst.index('lll')"
   ]
  },
  {
   "cell_type": "code",
   "execution_count": 31,
   "metadata": {},
   "outputs": [
    {
     "name": "stdout",
     "output_type": "stream",
     "text": [
      "{'yellow', 'purple', 'blue'}\n",
      "yellow\n",
      "purple\n",
      "blue\n",
      "{'blue', 'yellow', 'purple', 'lavender', 'pink'}\n"
     ]
    }
   ],
   "source": [
    "colors={'purple','yellow','blue'}\n",
    "print(colors)\n",
    "for i in colors:\n",
    "      print(i)\n",
    "# colors.update('pink','lavender')\n",
    "# print(colors)\n",
    "colors.update(['pink','lavender'])\n",
    "print(colors)\n",
    "# colors.remove('white')  #throws error\n",
    "colors.discard('white') #does not throw error"
   ]
  },
  {
   "cell_type": "code",
   "execution_count": 32,
   "metadata": {},
   "outputs": [
    {
     "name": "stdout",
     "output_type": "stream",
     "text": [
      "10\n"
     ]
    }
   ],
   "source": [
    "#type conversion\n",
    "str1='10'\n",
    "type(str1)\n",
    "print(int(str1))\n"
   ]
  },
  {
   "cell_type": "code",
   "execution_count": 33,
   "metadata": {},
   "outputs": [
    {
     "data": {
      "text/plain": [
       "'b'"
      ]
     },
     "execution_count": 33,
     "metadata": {},
     "output_type": "execute_result"
    }
   ],
   "source": [
    "ord('a')\n",
    "hex(10)\n",
    "oct(10)\n",
    "chr(98)"
   ]
  },
  {
   "cell_type": "code",
   "execution_count": 34,
   "metadata": {},
   "outputs": [
    {
     "data": {
      "text/plain": [
       "{'id': 100, 'name': 'aaaa'}"
      ]
     },
     "execution_count": 34,
     "metadata": {},
     "output_type": "execute_result"
    }
   ],
   "source": [
    "tuple(['a','b'])\n",
    "list(('a','b'))\n",
    "set(['a','b','c'])\n",
    "dict((('id', 100),('name','aaaa')))"
   ]
  },
  {
   "cell_type": "code",
   "execution_count": 35,
   "metadata": {},
   "outputs": [
    {
     "data": {
      "text/plain": [
       "['a', 'b', 'c']"
      ]
     },
     "execution_count": 35,
     "metadata": {},
     "output_type": "execute_result"
    }
   ],
   "source": [
    "tup=('a','b','c')\n",
    "list(tup)\n"
   ]
  },
  {
   "cell_type": "code",
   "execution_count": 36,
   "metadata": {},
   "outputs": [
    {
     "data": {
      "text/plain": [
       "{'aaa': 'vvv', 1: 2}"
      ]
     },
     "execution_count": 36,
     "metadata": {},
     "output_type": "execute_result"
    }
   ],
   "source": [
    "tup=(('aaa','vvv'),(1,2))\n",
    "dict(tup)\n"
   ]
  },
  {
   "cell_type": "code",
   "execution_count": 37,
   "metadata": {},
   "outputs": [
    {
     "name": "stdout",
     "output_type": "stream",
     "text": [
      "10\n"
     ]
    }
   ],
   "source": [
    "str1='1010'\n",
    "print(int(str1,2))"
   ]
  },
  {
   "cell_type": "code",
   "execution_count": 40,
   "metadata": {},
   "outputs": [
    {
     "name": "stdout",
     "output_type": "stream",
     "text": [
      "Enter a number5\n",
      "5 is odd\n"
     ]
    }
   ],
   "source": [
    "#if-else\n",
    "\n",
    "num=int(input(\"Enter a number\"))\n",
    "if num%2==0:\n",
    "    print(\"%d is even\" %(num))\n",
    "else:\n",
    "    print(\"{} is odd\" .format(num))"
   ]
  },
  {
   "cell_type": "code",
   "execution_count": 41,
   "metadata": {},
   "outputs": [
    {
     "name": "stdout",
     "output_type": "stream",
     "text": [
      "enter a number343\n",
      "343 is greater than 100\n"
     ]
    }
   ],
   "source": [
    "#elif\n",
    "\n",
    "num=int(input(\"enter a number\"))\n",
    "if(num > 100):\n",
    "    print(\"%d is greater than 100\" %(num))\n",
    "elif(num < 100):\n",
    "    print(\"%d is less than 100\" %(num))\n",
    "else:\n",
    "    print(\"%d is equal to 100\" %(num))\n",
    "    "
   ]
  },
  {
   "cell_type": "code",
   "execution_count": 51,
   "metadata": {},
   "outputs": [
    {
     "name": "stdout",
     "output_type": "stream",
     "text": [
      "10\n",
      "10\n"
     ]
    }
   ],
   "source": [
    "a=int('10')\n",
    "b=int('20')\n",
    "if a<b: print(a)\n",
    "print(a) if a<b else print(b)\n"
   ]
  },
  {
   "cell_type": "code",
   "execution_count": 56,
   "metadata": {},
   "outputs": [
    {
     "name": "stdout",
     "output_type": "stream",
     "text": [
      "50\n"
     ]
    }
   ],
   "source": [
    "a=int('30')\n",
    "b=int('40')\n",
    "c=int('50')\n",
    "d=int('50')\n",
    "print(a) if a>b  else print(b) if c!=d else print(d)"
   ]
  },
  {
   "cell_type": "code",
   "execution_count": 66,
   "metadata": {},
   "outputs": [
    {
     "name": "stdout",
     "output_type": "stream",
     "text": [
      "10\n",
      "20\n"
     ]
    }
   ],
   "source": [
    "#for\n",
    "\n",
    "i=(10,20,30)\n",
    "for j in i: \n",
    "    print(j)\n",
    "    if(j==20): break"
   ]
  },
  {
   "cell_type": "code",
   "execution_count": 70,
   "metadata": {},
   "outputs": [
    {
     "name": "stdout",
     "output_type": "stream",
     "text": [
      "\n",
      "\n",
      "0 \n",
      "0 1 \n",
      "0 1 2 \n",
      "0 1 2 3 \n",
      "0 1 2 3 4 \n",
      "0 1 2 3 4 5 \n",
      "0 1 2 3 4 5 6 \n",
      "0 1 2 3 4 5 6 7 \n",
      "0 1 2 3 4 5 6 7 8 \n",
      "0 1 2 3 4 5 6 7 8 9 \n",
      "0 1 2 3 4 5 6 7 8 9 10 "
     ]
    }
   ],
   "source": [
    "\n",
    "for i in range(12):\n",
    "    print()\n",
    "    for j in range(i):\n",
    "        print(j, end=' ')"
   ]
  },
  {
   "cell_type": "code",
   "execution_count": 72,
   "metadata": {},
   "outputs": [
    {
     "name": "stdout",
     "output_type": "stream",
     "text": [
      "\n",
      "* \n",
      "* * \n",
      "* * * \n",
      "* * * * \n",
      "* * * * * \n",
      "* * * * * * \n",
      "* * * * * * * \n",
      "* * * * * * * * \n",
      "* * * * * * * * * "
     ]
    }
   ],
   "source": [
    "\n",
    "for i in range(1,10):\n",
    "    print()\n",
    "    for j in range(i):\n",
    "        print(\"*\", end=' ')"
   ]
  },
  {
   "cell_type": "code",
   "execution_count": 74,
   "metadata": {},
   "outputs": [
    {
     "name": "stdout",
     "output_type": "stream",
     "text": [
      "0\n",
      "1\n",
      "2\n",
      "3\n",
      "4\n",
      ".......\n"
     ]
    }
   ],
   "source": [
    "for value in range(5):\n",
    "    print(value)\n",
    "else:\n",
    "    print(\".......\")"
   ]
  },
  {
   "cell_type": "code",
   "execution_count": 76,
   "metadata": {},
   "outputs": [
    {
     "name": "stdout",
     "output_type": "stream",
     "text": [
      "enter the number to be multiplied2\n",
      "2 * 1   = 2\n",
      "2 * 2   = 4\n",
      "2 * 3   = 6\n",
      "2 * 4   = 8\n",
      "2 * 5   = 10\n",
      "2 * 6   = 12\n",
      "2 * 7   = 14\n",
      "2 * 8   = 16\n",
      "2 * 9   = 18\n",
      "2 * 10   = 20\n",
      "2 * 11   = 22\n",
      "2 * 12   = 24\n",
      "2 * 13   = 26\n",
      "2 * 14   = 28\n",
      "2 * 15   = 30\n",
      "2 * 16   = 32\n",
      "2 * 17   = 34\n",
      "2 * 18   = 36\n",
      "2 * 19   = 38\n",
      "2 * 20   = 40\n"
     ]
    }
   ],
   "source": [
    "i=1\n",
    "j=20\n",
    "k= int(input(\"enter the number to be multiplied\"))\n",
    "while(i<=j):\n",
    "    print(\"{} * {}   = {}\" .format(k,i,k*i))\n",
    "    i+=1"
   ]
  },
  {
   "cell_type": "code",
   "execution_count": 83,
   "metadata": {},
   "outputs": [
    {
     "name": "stdout",
     "output_type": "stream",
     "text": [
      "enter a number4\n",
      "4*1=4\n",
      "4*4=16\n",
      "4*7=28\n",
      "4*10=40\n",
      "4*13=52\n",
      "4*16=64\n",
      "4*19=76\n"
     ]
    }
   ],
   "source": [
    "\n",
    "j=20\n",
    "k=int(input(\"enter a number\"))\n",
    "for x in range(1,j+1,3):\n",
    "    print(\"{}*{}={}\". format(k,x,k*x))"
   ]
  },
  {
   "cell_type": "code",
   "execution_count": 84,
   "metadata": {},
   "outputs": [
    {
     "name": "stdout",
     "output_type": "stream",
     "text": [
      "enter the number to be multiplied3\n",
      "3 * 1   = 3\n",
      "3 * 2   = 6\n",
      "3 * 3   = 9\n",
      "3 * 4   = 12\n",
      "3 * 5   = 15\n",
      "3 * 6   = 18\n",
      "3 * 7   = 21\n",
      "3 * 8   = 24\n",
      "3 * 9   = 27\n",
      "3 * 10   = 30\n",
      "3 * 11   = 33\n",
      "3 * 12   = 36\n",
      "3 * 13   = 39\n",
      "3 * 14   = 42\n",
      "3 * 15   = 45\n",
      "3 * 16   = 48\n",
      "3 * 17   = 51\n",
      "3 * 18   = 54\n",
      "3 * 19   = 57\n",
      "3 * 20   = 60\n",
      "...................................\n"
     ]
    }
   ],
   "source": [
    "i=1\n",
    "j=20\n",
    "\n",
    "k= int(input(\"enter the number to be multiplied\"))\n",
    "print()\n",
    "while(i<=j):\n",
    "    print(\"{} * {}   = {}\" .format(k,i,k*i))\n",
    "    i+=1\n",
    "else:\n",
    "      print(\"...................................\")"
   ]
  },
  {
   "cell_type": "code",
   "execution_count": 3,
   "metadata": {},
   "outputs": [
    {
     "name": "stdout",
     "output_type": "stream",
     "text": [
      "1\n",
      "2\n",
      "3\n",
      "4\n",
      "5\n",
      "6\n",
      "....\n",
      "7\n",
      "8\n",
      "9\n"
     ]
    }
   ],
   "source": [
    "#pass\n",
    "for i in range(1,10):\n",
    "    if (i==7): \n",
    "        pass\n",
    "        print(\"....\")\n",
    "    print(i)"
   ]
  },
  {
   "cell_type": "code",
   "execution_count": 23,
   "metadata": {},
   "outputs": [
    {
     "name": "stdout",
     "output_type": "stream",
     "text": [
      "[10, 'user1', 'user2', 10.25, 'test1', 'test2', True, None]\n"
     ]
    }
   ],
   "source": [
    "lst1=[10, ['user1','user2'],10.25,('test1','test2'), True, None]\n",
    "flatlst=[]\n",
    "\n",
    "for elem in lst1:\n",
    "   \n",
    "    if type(elem) == list:\n",
    "        for e in elem:\n",
    "            flatlst.append(e)\n",
    "    elif type(elem) == tuple:\n",
    "        for e in elem:\n",
    "            flatlst.append(e)\n",
    "    else:\n",
    "        flatlst.append(elem)\n",
    "#         else: \n",
    "#             flatlst.append(elem)\n",
    "print(flatlst)"
   ]
  },
  {
   "cell_type": "code",
   "execution_count": 36,
   "metadata": {},
   "outputs": [
    {
     "name": "stdout",
     "output_type": "stream",
     "text": [
      "\n",
      "* * * * * \n",
      "* * * * \n",
      "* * * \n",
      "* * \n",
      "* \n"
     ]
    }
   ],
   "source": [
    "for x in range(6,0,-1):\n",
    "    print()\n",
    "    for y in range(1,x):\n",
    "        print(\"*\",end=' ')\n",
    "        i-=1\n",
    "\n",
    "        \n",
    "        \n",
    "        \n",
    "        "
   ]
  },
  {
   "cell_type": "code",
   "execution_count": 44,
   "metadata": {},
   "outputs": [
    {
     "name": "stdout",
     "output_type": "stream",
     "text": [
      "\n",
      "     \n",
      "    * \n",
      "   * * \n",
      "  * * * \n",
      " * * * * \n",
      "* * * * * "
     ]
    }
   ],
   "source": [
    "size=5\n",
    "for i in range(0,size+1):\n",
    "    print()\n",
    "    for j in range(0,size-i):\n",
    "        print(\" \",end=\"\")\n",
    "    for k in range(0,i):\n",
    "        print(\"*\",end=\" \")"
   ]
  },
  {
   "cell_type": "code",
   "execution_count": 45,
   "metadata": {},
   "outputs": [
    {
     "name": "stdout",
     "output_type": "stream",
     "text": [
      "\n",
      "**********\n",
      "****  ****\n",
      "***    ***\n",
      "**      **\n",
      "*        *\n",
      "          "
     ]
    }
   ],
   "source": [
    "size=5\n",
    "for i in range(0,size+1):\n",
    "    print()\n",
    "    for j in range(0,size-i):\n",
    "        print(\"*\",end=\"\")\n",
    "    for k in range(0,i):\n",
    "        print(\" \",end=\" \")\n",
    "    for j in range(0,size-i):\n",
    "        print(\"*\",end=\"\")"
   ]
  },
  {
   "cell_type": "code",
   "execution_count": 47,
   "metadata": {},
   "outputs": [
    {
     "name": "stdout",
     "output_type": "stream",
     "text": [
      "    *     \n",
      "   * *    \n",
      "  * * *   \n",
      " * * * *  \n"
     ]
    }
   ],
   "source": [
    "for i in range(1,5):\n",
    "    str1=\"* \"*i\n",
    "    print(str1.center(10))"
   ]
  },
  {
   "cell_type": "code",
   "execution_count": null,
   "metadata": {},
   "outputs": [],
   "source": [
    "movies=[\"The Holy Grail\",\"The Life of Brain\",\"The Meaning of Life\"]\n",
    "years=[1975,1979,1983]\n",
    "result=[]\n",
    "for (movie,year) in zip(movies,years):\n",
    "    result.append(movie)\n",
    "    result.append(year)\n",
    "print(result)"
   ]
  },
  {
   "cell_type": "code",
   "execution_count": null,
   "metadata": {},
   "outputs": [],
   "source": [
    "import random\n",
    "random.randint(1,54)"
   ]
  },
  {
   "cell_type": "code",
   "execution_count": null,
   "metadata": {},
   "outputs": [],
   "source": [
    " import random\n",
    "i=random.randint(1,10)\n",
    "c=0\n",
    "for x in range(0,6):\n",
    "    j=int(input(\"enter a number\"))\n",
    "    if j>i: \n",
    "          print(\"guess is too high\")\n",
    "    elif j<i:\n",
    "            print(\"guess is too low\")\n",
    "    else:\n",
    "            print(\"guessed right\")\n",
    "#     c+=1\n",
    "#     if(c==5):\n",
    "#         print(\"you won\")\n",
    "#     else: \n",
    "#         print(\"you lost\")"
   ]
  },
  {
   "cell_type": "code",
   "execution_count": 4,
   "metadata": {},
   "outputs": [
    {
     "name": "stdout",
     "output_type": "stream",
     "text": [
      "enter a number8\n",
      "guess is too high\n",
      "enter a number9\n",
      "guess is too high\n",
      "enter a number10\n",
      "guess is too high\n",
      "enter a number8\n",
      "guess is too high\n",
      "enter a number9\n",
      "guess is too high\n",
      "enter a number5\n",
      "guess is too high\n"
     ]
    }
   ],
   "source": [
    "import random\n",
    "i=random.randint(1,10)\n",
    "c=0\n",
    "for x in range(0,6):\n",
    "    j=int(input(\"enter a number\"))\n",
    "    if j>i: \n",
    "          print(\"guess is too high\")\n",
    "    elif j<i:\n",
    "            print(\"guess is too low\")\n",
    "    else:\n",
    "            print(\"guessed right\")\n",
    "            break;\n",
    "c+=1\n",
    "if(c==5):\n",
    "    print(\"out\")\n",
    "    "
   ]
  },
  {
   "cell_type": "code",
   "execution_count": 12,
   "metadata": {},
   "outputs": [
    {
     "name": "stdout",
     "output_type": "stream",
     "text": [
      "enter a year1600\n",
      "1600 is a leap year\n"
     ]
    }
   ],
   "source": [
    "year=int(input(\"enter a year\"))\n",
    "if (year%400==0 or (year%4==0 and year%100!=0)):\n",
    "    print(\"{} is a leap year\" .format(year))\n",
    "else:\n",
    "    print(\"{} is not a leap year\".format(year))"
   ]
  },
  {
   "cell_type": "code",
   "execution_count": null,
   "metadata": {},
   "outputs": [],
   "source": []
  },
  {
   "cell_type": "code",
   "execution_count": null,
   "metadata": {},
   "outputs": [],
   "source": []
  },
  {
   "cell_type": "code",
   "execution_count": null,
   "metadata": {},
   "outputs": [],
   "source": []
  }
 ],
 "metadata": {
  "kernelspec": {
   "display_name": "Python 3",
   "language": "python",
   "name": "python3"
  },
  "language_info": {
   "codemirror_mode": {
    "name": "ipython",
    "version": 3
   },
   "file_extension": ".py",
   "mimetype": "text/x-python",
   "name": "python",
   "nbconvert_exporter": "python",
   "pygments_lexer": "ipython3",
   "version": "3.7.3"
  }
 },
 "nbformat": 4,
 "nbformat_minor": 2
}
