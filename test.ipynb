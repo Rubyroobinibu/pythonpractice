{
 "cells": [
  {
   "cell_type": "code",
   "execution_count": 61,
   "metadata": {},
   "outputs": [
    {
     "name": "stdout",
     "output_type": "stream",
     "text": [
      "[('computer programming', 2245), ('programming for beginners', 5192), ('computer basics', 537)]\n"
     ]
    }
   ],
   "source": [
    "lst1=[[12345,'computer programming',5,449],[12355,'programming for beginners',8,649],[12356,'computer basics',3,179]]\n",
    "# print(lst[:1])\n",
    "lst2=[]\n",
    "lst3=[]\n",
    "\n",
    "for i in range(0,3):\n",
    "    lst2.append(lst1[i][2])\n",
    "    lst3.append(lst1[i][3])\n",
    "total= lambda x,y: x*y\n",
    "\n",
    "mapobj=map(total,lst2,lst3)\n",
    "\n",
    "lst6=list(mapobj)\n",
    "lst5=[]\n",
    "for i in range(0,3):\n",
    "    lst5.append((lst1[i][1], lst6[i]))\n",
    "    \n",
    "print(lst5)\n",
    "\n",
    "\n",
    "\n",
    "\n",
    "\n",
    "\n",
    "\n",
    "  "
   ]
  },
  {
   "cell_type": "code",
   "execution_count": 65,
   "metadata": {},
   "outputs": [
    {
     "name": "stdout",
     "output_type": "stream",
     "text": [
      "[('computer programming', 2245), ('programming for beginners', 5192), ('computer basics', 537)]\n"
     ]
    }
   ],
   "source": [
    "lst1=[[12345,'computer programming',5,449],[12355,'programming for beginners',8,649],[12356,'computer basics',3,179]]\n",
    "total=lambda l:(l[1],l[2]*l[3])\n",
    "print(list(map(total,lst1)))"
   ]
  },
  {
   "cell_type": "code",
   "execution_count": 43,
   "metadata": {},
   "outputs": [
    {
     "name": "stdout",
     "output_type": "stream",
     "text": [
      "enter the electricity consumed245\n",
      "735.015\n"
     ]
    }
   ],
   "source": [
    "i=int(input(\"enter the electricity consumed\"))\n",
    "\n",
    "\n",
    "def fun(i):\n",
    "    if i<=100:\n",
    "        return i*1.0+(1.5/100)\n",
    "    elif i>=101 and i<=200:\n",
    "        return i*1.5+(1.5/100)\n",
    "    elif i>=201 and i<=500:\n",
    "        return i*3.0+(1.5/100)\n",
    "    else:\n",
    "        return i*5.0+(1.5/100)\n",
    "print(fun(i))"
   ]
  }
 ],
 "metadata": {
  "kernelspec": {
   "display_name": "Python 3",
   "language": "python",
   "name": "python3"
  },
  "language_info": {
   "codemirror_mode": {
    "name": "ipython",
    "version": 3
   },
   "file_extension": ".py",
   "mimetype": "text/x-python",
   "name": "python",
   "nbconvert_exporter": "python",
   "pygments_lexer": "ipython3",
   "version": "3.7.3"
  }
 },
 "nbformat": 4,
 "nbformat_minor": 2
}
