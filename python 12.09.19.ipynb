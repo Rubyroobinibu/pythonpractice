{
 "cells": [
  {
   "cell_type": "code",
   "execution_count": null,
   "metadata": {},
   "outputs": [],
   "source": [
    "import re\n",
    "str1='hello world'\n",
    "matches=re.search(r'o',str1)\n",
    "print(matches.group(0))\n",
    "\n",
    "pattern=re.compile(r'o')\n",
    "matches=pattern.finditer(str1)\n",
    "for i in matches:\n",
    "    print(i.group(0),end=' ')"
   ]
  },
  {
   "cell_type": "code",
   "execution_count": 34,
   "metadata": {},
   "outputs": [
    {
     "name": "stdout",
     "output_type": "stream",
     "text": [
      "8\n"
     ]
    }
   ],
   "source": [
    "fid=open(r'C://Users/Trainee/Desktop/pythonruby/file1.txt','a')\n",
    "print(fid.write(\"skfjsdkf\"))\n",
    "fid.close()\n",
    "\n"
   ]
  },
  {
   "cell_type": "code",
   "execution_count": 35,
   "metadata": {},
   "outputs": [
    {
     "name": "stdout",
     "output_type": "stream",
     "text": [
      "hello worldskfjsdkf\n"
     ]
    }
   ],
   "source": [
    "fid=open(r'C://Users/Trainee/Desktop/pythonruby/file1.txt','r')\n",
    "print(fid.read())\n",
    "fid.close()"
   ]
  },
  {
   "cell_type": "code",
   "execution_count": 36,
   "metadata": {},
   "outputs": [],
   "source": [
    "with open(r'C://Users/Trainee/Desktop/pythonruby/file1.txt') as f:\n",
    "    with open(r'C://Users/Trainee/Desktop/pythonruby/file2.txt', \"w\") as f1:\n",
    "        for line in f:\n",
    "            f1.write(line)\n",
    "    \n"
   ]
  },
  {
   "cell_type": "code",
   "execution_count": 39,
   "metadata": {},
   "outputs": [
    {
     "name": "stdout",
     "output_type": "stream",
     "text": [
      "dsfd\n"
     ]
    }
   ],
   "source": [
    "n=int('2')\n",
    "if n==2:\n",
    "    print(\"dsfd\")\n",
    "elif n==3:\n",
    "    print(\"dfsffdsfd\")\n",
    "    \n"
   ]
  },
  {
   "cell_type": "code",
   "execution_count": 1,
   "metadata": {},
   "outputs": [
    {
     "name": "stdout",
     "output_type": "stream",
     "text": [
      "call.del@airindia.in\n"
     ]
    }
   ],
   "source": [
    "import re\n",
    "str1='email ID:call.del@airindia.in'\n",
    "domain = re.search(r'\\w+\\.\\w+@\\w+.\\w+', str1)\n",
    "# domain = re.search(r'\\S+\\s+\\S+@\\S+', str1)\n",
    "print(domain.group(0))\n",
    "\n",
    "\n",
    "# \\w+\\.\\w+@\\w+\\.\\w+\n",
    "# \\S+@\\S+\n"
   ]
  },
  {
   "cell_type": "code",
   "execution_count": 41,
   "metadata": {},
   "outputs": [
    {
     "name": "stdout",
     "output_type": "stream",
     "text": [
      "<re.Match object; span=(17, 30), match=' 011-24667473'>\n",
      "<re.Match object; span=(17, 30), match=' 011.24667473'>\n",
      "<re.Match object; span=(17, 30), match=' 011*24667473'>\n"
     ]
    }
   ],
   "source": [
    "str1='Landline Number : 011-24667473'\n",
    "str2='Landline Number : 011.24667473'\n",
    "str3='Landline Number : 011*24667473'\n",
    "# match=re.search(r'[a-zA-Z ]: [0-9]+.[0-9]+',str1)\n",
    "# match1=re.search(r'[a-zA-Z ]: [0-9]+.[0-9]+',str2)\n",
    "# match2=re.search(r'[a-zA-Z ]: [0-9]+.[0-9]+',str3)\n",
    "match4=re.search(r' \\d{3}[-|.|*]\\d{8}',str1)\n",
    "match5=re.search(r' \\d{3}[-.*]\\d{8}',str2)\n",
    "match6=re.search(r' \\d{3}[-.*]\\d{8}',str3)\n",
    "# print(match)\n",
    "# print(match1)\n",
    "# print(match2)\n",
    "print(match4)\n",
    "print(match5)\n",
    "print(match6)\n"
   ]
  },
  {
   "cell_type": "code",
   "execution_count": null,
   "metadata": {},
   "outputs": [],
   "source": [
    "lst=[5,6,7,8,9]\n",
    "# print(lst)\n",
    "try:\n",
    "    num1=int(input(\"enter first num:\"))\n",
    "    num2=int(input(\"enter second num:\"))\n",
    "    print(num1/num2)\n",
    "    print(lst)\n",
    "except ValueError as er:\n",
    "    print(\"enter number\\n\")\n",
    "    print(\"Error \\n{}\".format(er))\n",
    "    \n",
    "except ZeroDivisionError as err:\n",
    "    print(\"divisor should be greater than 0\\n\")\n",
    "    print(\"Error \\n{}\".format(err)) # to print system generated error msg\n",
    "    "
   ]
  },
  {
   "cell_type": "code",
   "execution_count": 7,
   "metadata": {},
   "outputs": [
    {
     "data": {
      "text/plain": [
       "2147483647"
      ]
     },
     "execution_count": 7,
     "metadata": {},
     "output_type": "execute_result"
    }
   ],
   "source": [
    "import sys\n",
    "sys.maxsize"
   ]
  },
  {
   "cell_type": "code",
   "execution_count": null,
   "metadata": {},
   "outputs": [],
   "source": [
    "lst=[5,6,7,8,9]\n",
    "# print(lst)\n",
    "try:\n",
    "    num1=int(input(\"enter first num:\"))\n",
    "    num2=int(input(\"enter second num:\"))\n",
    "    print(num1/num2)\n",
    "    print(lst[6])\n",
    "    \n",
    "except ValueError as er:\n",
    "    print(\"enter number\\n\")\n",
    "    print(\"Error \\n{}\".format(er))\n",
    "    \n",
    "except ZeroDivisionError as err:\n",
    "    print(\"divisor should be greater than 0\\n\")\n",
    "#     print(\"Error \\n{}\".format(err)) # to print system generated error msg\n",
    "    print(err)\n",
    "    \n",
    "except Exception as err:\n",
    "    print(err)\n",
    "    "
   ]
  },
  {
   "cell_type": "code",
   "execution_count": 6,
   "metadata": {},
   "outputs": [
    {
     "name": "stdout",
     "output_type": "stream",
     "text": [
      "enter first num:8\n",
      "enter second num:0\n",
      "divisor should be greater than 0\n",
      "\n"
     ]
    }
   ],
   "source": [
    "\n",
    "try:\n",
    "    num1=int(input(\"enter first num:\"))\n",
    "    num2=int(input(\"enter second num:\"))\n",
    "    if num2==0:\n",
    "        raise ZeroDivisionError\n",
    "    print(num1/num2)\n",
    "    \n",
    "    \n",
    "except ValueError:\n",
    "    print(\"enter number\\n\")\n",
    "\n",
    "    \n",
    "except ZeroDivisionError:\n",
    "    print(\"divisor should be greater than 0\\n\")\n",
    "#     print(\"Error \\n{}\".format(err)) # to print system generated error msg\n",
    "#     print(err)\n",
    "    \n",
    "except Exception as err:\n",
    "    print(err)\n",
    "    "
   ]
  },
  {
   "cell_type": "code",
   "execution_count": 8,
   "metadata": {},
   "outputs": [
    {
     "name": "stdout",
     "output_type": "stream",
     "text": [
      "enter first num:6\n",
      "enter second num:gf\n",
      "enter number\n",
      "\n",
      "Error \n",
      "invalid literal for int() with base 10: 'gf'\n"
     ]
    }
   ],
   "source": [
    "try:\n",
    "    num1=int(input(\"enter first num:\"))\n",
    "    num2=int(input(\"enter second num:\"))\n",
    "    \n",
    "    \n",
    "except ValueError as er:\n",
    "    print(\"enter number\\n\")\n",
    "    print(\"Error \\n{}\".format(er))\n",
    "    \n",
    "else:\n",
    "    print(\"division is %d\" %(num1/num2))"
   ]
  },
  {
   "cell_type": "code",
   "execution_count": null,
   "metadata": {},
   "outputs": [],
   "source": [
    "try:\n",
    "    num1=int(input(\"enter first num:\"))\n",
    "    num2=int(input(\"enter second num:\"))\n",
    "    \n",
    "    \n",
    "except ValueError as er:\n",
    "    print(\"enter number\\n\")\n",
    "    print(\"Error \\n{}\".format(er))\n",
    "    \n",
    "else:\n",
    "    print(\"division is %d\" %(num1/num2))\n",
    "    \n",
    "finally:\n",
    "    num1=0\n",
    "    num2=0\n",
    "    print(num1,num2)"
   ]
  },
  {
   "cell_type": "code",
   "execution_count": 5,
   "metadata": {},
   "outputs": [
    {
     "name": "stdout",
     "output_type": "stream",
     "text": [
      "enter first num:65\n",
      "enter second num:0\n",
      "error\n"
     ]
    }
   ],
   "source": [
    "lst=[5,6,7,8,9]\n",
    "try:\n",
    "    num1=int(input(\"enter first num:\"))\n",
    "    num2=int(input(\"enter second num:\"))\n",
    "    if num2==0:\n",
    "        raise ZeroDivisionError\n",
    "    print(num1/num2)\n",
    "    print(lst[10])\n",
    "    \n",
    "except (ValueError,ZeroDivisionError) as err:\n",
    "#     print(\"enter number\\n\")\n",
    "    print(\"error\")\n",
    "\n",
    "    \n",
    "\n",
    "    \n"
   ]
  },
  {
   "cell_type": "code",
   "execution_count": 13,
   "metadata": {},
   "outputs": [
    {
     "name": "stdout",
     "output_type": "stream",
     "text": [
      "8Hn=\"(l8\n"
     ]
    }
   ],
   "source": [
    "import string\n",
    "import random\n",
    "\n",
    "def randompassword():\n",
    "    chars=string.ascii_uppercase + string.ascii_lowercase + string.digits + string.punctuation\n",
    "\n",
    "    return ''.join(random.choice(chars) for x in range(8))\n",
    "\n",
    "print(randompassword())\n",
    "\n"
   ]
  },
  {
   "cell_type": "code",
   "execution_count": 14,
   "metadata": {},
   "outputs": [
    {
     "name": "stdout",
     "output_type": "stream",
     "text": [
      "y+FUrOTh\n"
     ]
    }
   ],
   "source": [
    "import secrets\n",
    "import string\n",
    "import random\n",
    "\n",
    "def randompassword():\n",
    "    chars=string.ascii_uppercase + string.ascii_lowercase + string.digits + string.punctuation\n",
    "\n",
    "    return ''.join(secrets.choice(chars) for x in range(8))\n",
    "\n",
    "print(randompassword())\n"
   ]
  },
  {
   "cell_type": "code",
   "execution_count": 15,
   "metadata": {},
   "outputs": [
    {
     "name": "stdout",
     "output_type": "stream",
     "text": [
      "\n",
      "* * * * * \n",
      "* * * * \n",
      "* * * \n",
      "* * \n",
      "* \n"
     ]
    }
   ],
   "source": [
    "for x in range(6,0,-1):\n",
    "    print()\n",
    "    for y in range(1,x):\n",
    "        print(\"*\",end=' ')\n",
    "       "
   ]
  },
  {
   "cell_type": "code",
   "execution_count": 17,
   "metadata": {},
   "outputs": [
    {
     "name": "stdout",
     "output_type": "stream",
     "text": [
      "https://youtube.com\n",
      "https://python.org\n"
     ]
    }
   ],
   "source": [
    "import re\n",
    "str1='https://youtube.com'\n",
    "str2='https://python.org'\n",
    "match1=re.search(r'[a-z]+://[a-z]+.[a-z]+',str1)\n",
    "match2=re.search(r'[a-z]+://[a-z]+.[a-z]+',str2)\n",
    "print(match1.group(0))\n",
    "print(match2.group(0))\n"
   ]
  },
  {
   "cell_type": "code",
   "execution_count": 42,
   "metadata": {},
   "outputs": [
    {
     "name": "stdout",
     "output_type": "stream",
     "text": [
      "https://youtube.com\n",
      "http://yahoo.co.in\n"
     ]
    }
   ],
   "source": [
    "import re\n",
    "str1='https://youtube.com'\n",
    "str2='http://yahoo.co.in'\n",
    "match1=re.search(r'[a-z]+://[a-z]+.[a-z]+.[a-z]+',str1)\n",
    "match2=re.search(r'[a-z]+://[a-z]+.[a-z]+.[a-z]+',str2)\n",
    "# match1=re.search(r'\\S+',str1)\n",
    "# match2=re.search(r'\\S+',str2)\n",
    "# match1=re.search(r'\\w+://\\w+.\\w+.\\w+',str1)\n",
    "print(match1.group(0))\n",
    "print(match2.group(0))"
   ]
  },
  {
   "cell_type": "code",
   "execution_count": 43,
   "metadata": {},
   "outputs": [
    {
     "name": "stdout",
     "output_type": "stream",
     "text": [
      "234-456-1234\n",
      "123.456.1234\n"
     ]
    }
   ],
   "source": [
    "ph1 = '234-456-1234'\n",
    "ph2 = '123.456.1234'\n",
    "match1=re.search(r'\\d+[-.]\\d+[-.]\\d+',ph1)\n",
    "match2=re.search(r'\\d+[-.]\\d+[-.]\\d+',ph2)\n",
    "print(match1.group(0))\n",
    "print(match2.group(0))"
   ]
  },
  {
   "cell_type": "code",
   "execution_count": 45,
   "metadata": {},
   "outputs": [
    {
     "name": "stdout",
     "output_type": "stream",
     "text": [
      "987 180 3333\n"
     ]
    }
   ],
   "source": [
    "ph = '+91 987 180 3333'\n",
    "match=re.search(r'\\+\\d\\d\\s(\\d{1,3}\\s\\d{1,3}\\s\\d{1,4})',ph)\n",
    "print(match.group(1))\n"
   ]
  },
  {
   "cell_type": "code",
   "execution_count": 46,
   "metadata": {},
   "outputs": [
    {
     "name": "stdout",
     "output_type": "stream",
     "text": [
      "Mr. Ram\n",
      "Mr John\n"
     ]
    }
   ],
   "source": [
    "name1 = 'Mr. Ram'\n",
    "name2 = 'Mr John'\n",
    "match1=re.search(r'[a-zA-Z. ]+',name1)\n",
    "match2=re.search(r'[a-zA-Z. ]+',name2)\n",
    "print(match1.group(0))\n",
    "print(match2.group(0))"
   ]
  },
  {
   "cell_type": "code",
   "execution_count": 47,
   "metadata": {},
   "outputs": [
    {
     "name": "stdout",
     "output_type": "stream",
     "text": [
      "21/10/2019\n"
     ]
    }
   ],
   "source": [
    "date1 = '21/10/2019'\n",
    "match=re.search(r'\\d{1,2}/\\d{1,2}/\\d{1,4}',date1)\n",
    "print(match.group(0))"
   ]
  },
  {
   "cell_type": "code",
   "execution_count": 60,
   "metadata": {},
   "outputs": [
    {
     "name": "stdout",
     "output_type": "stream",
     "text": [
      "Sam\n",
      "10\n",
      "Sam\n",
      "<__main__.Student object at 0x05C11850>\n",
      "<__main__.Student object at 0x05C117F0>\n"
     ]
    }
   ],
   "source": [
    "class Student:\n",
    "    name=\"Sam\"\n",
    "    age=10\n",
    "    \n",
    "    def displayName(self):\n",
    "        return self.name\n",
    "        \n",
    "stud=Student()\n",
    "stu=Student()\n",
    "print(stud.name)\n",
    "print(stud.age)\n",
    "print(stud.displayName())\n",
    "print(stud)\n",
    "print(stu)"
   ]
  },
  {
   "cell_type": "code",
   "execution_count": 79,
   "metadata": {},
   "outputs": [
    {
     "name": "stdout",
     "output_type": "stream",
     "text": [
      "1 dsfds lgms\n",
      "2 aaaa lgms\n",
      "{'roll': 1, 'name': 'dsfds'}\n",
      "{'roll': 2, 'name': 'aaaa'}\n",
      "{'roll': 1}\n"
     ]
    }
   ],
   "source": [
    "#parameterised constructor\n",
    "\n",
    "class Student:\n",
    "    school='lgms'\n",
    "    def __init__(self,roll,name):   #constructor--> __init__\n",
    "        self.roll=roll\n",
    "        self.name=name\n",
    "\n",
    "s1=Student(1,'dsfds')\n",
    "s2=Student(2,'aaaa')\n",
    "print(s1.roll,s1.name,s1.school)\n",
    "print(s2.roll,s2.name,Student.school)  # common var can be accessed by classname or instance but private var are accessed only by obj\n",
    "print(s1.__dict__)\n",
    "print(s2.__dict__)\n",
    "\n",
    "del s1.name\n",
    "print(s1.__dict__)\n"
   ]
  },
  {
   "cell_type": "code",
   "execution_count": 67,
   "metadata": {},
   "outputs": [
    {
     "name": "stdout",
     "output_type": "stream",
     "text": [
      "Non parameterised constructor\n"
     ]
    }
   ],
   "source": [
    "#non parameterised constructor\n",
    "\n",
    "class Student:\n",
    "    def __init__(self):\n",
    "        print(\"Non parameterised constructor\")\n",
    "        \n",
    "s=Student()"
   ]
  },
  {
   "cell_type": "code",
   "execution_count": 92,
   "metadata": {},
   "outputs": [
    {
     "name": "stdout",
     "output_type": "stream",
     "text": [
      "ruby roobini lgms ruby123roobini@gmail.com\n",
      "aaa bbb lgms aaa123bbb@gmail.com\n"
     ]
    }
   ],
   "source": [
    "class Employee:\n",
    "    dept='lgms'\n",
    "    def __init__(self,firstname,lastname):   #constructor--> __init__\n",
    "        self.firstname=firstname\n",
    "        self.lastname=lastname\n",
    "        self.password=firstname+\"123\"+lastname+\"@gmail.com\"    \n",
    "    \n",
    "\n",
    "e1=Employee('ruby','roobini')\n",
    "e2=Employee('aaa','bbb')\n",
    "print(e1.firstname,e1.lastname,e1.dept,e1.password)\n",
    "print(e2.firstname,e2.lastname,e2.dept,e2.password)\n"
   ]
  },
  {
   "cell_type": "code",
   "execution_count": 1,
   "metadata": {},
   "outputs": [
    {
     "name": "stdout",
     "output_type": "stream",
     "text": [
      "1\n",
      "5467-8678-4567-8964\n",
      "5467-8678-4567-8964\n"
     ]
    }
   ],
   "source": [
    "import re\n",
    "l=int(input())\n",
    "lst=[]\n",
    "for i in range(l):\n",
    "    lst.append(input())\n",
    "for j in lst:\n",
    "    match=re.search(r'[4-6]{0,1}[0-9\\-]{0,4}[0-9\\-]{0,6}[0-9\\-]{0,6}[0-9\\-]{0,6}',j)\n",
    "#     match=re.search(r'[4-6\\-])\n",
    "    print(match.group(0))"
   ]
  },
  {
   "cell_type": "code",
   "execution_count": 2,
   "metadata": {},
   "outputs": [
    {
     "name": "stdout",
     "output_type": "stream",
     "text": [
      "Enter your credit card number5467-8678-4567-8964\n",
      "valid\n"
     ]
    }
   ],
   "source": [
    "import re\n",
    "credit=input(\"Enter your credit card number\")\n",
    "match=re.search(r'[4-6]{1}[0-9]{3}-?[0-9]{4}-?[0-9]{4}-?[0-9]{4}',credit)\n",
    "if(match):\n",
    "    l=len(credit)\n",
    "    for i in range(0,l-3,1):\n",
    "        flag=0\n",
    "        for j in range(i+1,l,1):\n",
    "            if credit[i]==credit[j]:\n",
    "                flag+=1\n",
    "        if flag>=4:\n",
    "           print(\"Invalid\")\n",
    "           break\n",
    "        break\n",
    "    print(\"valid\")    \n",
    "else:\n",
    "    print(\"Invalid\")"
   ]
  }
 ],
 "metadata": {
  "kernelspec": {
   "display_name": "Python 3",
   "language": "python",
   "name": "python3"
  },
  "language_info": {
   "codemirror_mode": {
    "name": "ipython",
    "version": 3
   },
   "file_extension": ".py",
   "mimetype": "text/x-python",
   "name": "python",
   "nbconvert_exporter": "python",
   "pygments_lexer": "ipython3",
   "version": "3.7.3"
  }
 },
 "nbformat": 4,
 "nbformat_minor": 2
}
